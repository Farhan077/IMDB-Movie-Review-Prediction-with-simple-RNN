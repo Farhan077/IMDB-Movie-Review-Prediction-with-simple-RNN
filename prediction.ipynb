{
 "cells": [
  {
   "cell_type": "code",
   "execution_count": 1,
   "metadata": {},
   "outputs": [],
   "source": [
    "## Import libraries and load the model\n",
    "import numpy as np\n",
    "import tensorflow as tf\n",
    "from tensorflow.keras.datasets import imdb\n",
    "from tensorflow.keras.preprocessing import sequence\n",
    "from tensorflow.keras.models import load_model"
   ]
  },
  {
   "cell_type": "code",
   "execution_count": 2,
   "metadata": {},
   "outputs": [],
   "source": [
    "##Step 1: Load the IMDB dataset word index\n",
    "\n",
    "word_index = imdb.get_word_index()\n",
    "reverse_word_index = {value: key for key, value in word_index.items()}"
   ]
  },
  {
   "cell_type": "code",
   "execution_count": 3,
   "metadata": {},
   "outputs": [
    {
     "name": "stderr",
     "output_type": "stream",
     "text": [
      "WARNING:absl:Compiled the loaded model, but the compiled metrics have yet to be built. `model.compile_metrics` will be empty until you train or evaluate the model.\n"
     ]
    },
    {
     "data": {
      "text/html": [
       "<pre style=\"white-space:pre;overflow-x:auto;line-height:normal;font-family:Menlo,'DejaVu Sans Mono',consolas,'Courier New',monospace\"><span style=\"font-weight: bold\">Model: \"sequential\"</span>\n",
       "</pre>\n"
      ],
      "text/plain": [
       "\u001b[1mModel: \"sequential\"\u001b[0m\n"
      ]
     },
     "metadata": {},
     "output_type": "display_data"
    },
    {
     "data": {
      "text/html": [
       "<pre style=\"white-space:pre;overflow-x:auto;line-height:normal;font-family:Menlo,'DejaVu Sans Mono',consolas,'Courier New',monospace\">┏━━━━━━━━━━━━━━━━━━━━━━━━━━━━━━━━━┳━━━━━━━━━━━━━━━━━━━━━━━━┳━━━━━━━━━━━━━━━┓\n",
       "┃<span style=\"font-weight: bold\"> Layer (type)                    </span>┃<span style=\"font-weight: bold\"> Output Shape           </span>┃<span style=\"font-weight: bold\">       Param # </span>┃\n",
       "┡━━━━━━━━━━━━━━━━━━━━━━━━━━━━━━━━━╇━━━━━━━━━━━━━━━━━━━━━━━━╇━━━━━━━━━━━━━━━┩\n",
       "│ embedding (<span style=\"color: #0087ff; text-decoration-color: #0087ff\">Embedding</span>)           │ (<span style=\"color: #00af00; text-decoration-color: #00af00\">32</span>, <span style=\"color: #00af00; text-decoration-color: #00af00\">500</span>, <span style=\"color: #00af00; text-decoration-color: #00af00\">128</span>)         │     <span style=\"color: #00af00; text-decoration-color: #00af00\">1,280,000</span> │\n",
       "├─────────────────────────────────┼────────────────────────┼───────────────┤\n",
       "│ simple_rnn (<span style=\"color: #0087ff; text-decoration-color: #0087ff\">SimpleRNN</span>)          │ (<span style=\"color: #00af00; text-decoration-color: #00af00\">32</span>, <span style=\"color: #00af00; text-decoration-color: #00af00\">128</span>)              │        <span style=\"color: #00af00; text-decoration-color: #00af00\">32,896</span> │\n",
       "├─────────────────────────────────┼────────────────────────┼───────────────┤\n",
       "│ dense (<span style=\"color: #0087ff; text-decoration-color: #0087ff\">Dense</span>)                   │ (<span style=\"color: #00af00; text-decoration-color: #00af00\">32</span>, <span style=\"color: #00af00; text-decoration-color: #00af00\">1</span>)                │           <span style=\"color: #00af00; text-decoration-color: #00af00\">129</span> │\n",
       "└─────────────────────────────────┴────────────────────────┴───────────────┘\n",
       "</pre>\n"
      ],
      "text/plain": [
       "┏━━━━━━━━━━━━━━━━━━━━━━━━━━━━━━━━━┳━━━━━━━━━━━━━━━━━━━━━━━━┳━━━━━━━━━━━━━━━┓\n",
       "┃\u001b[1m \u001b[0m\u001b[1mLayer (type)                   \u001b[0m\u001b[1m \u001b[0m┃\u001b[1m \u001b[0m\u001b[1mOutput Shape          \u001b[0m\u001b[1m \u001b[0m┃\u001b[1m \u001b[0m\u001b[1m      Param #\u001b[0m\u001b[1m \u001b[0m┃\n",
       "┡━━━━━━━━━━━━━━━━━━━━━━━━━━━━━━━━━╇━━━━━━━━━━━━━━━━━━━━━━━━╇━━━━━━━━━━━━━━━┩\n",
       "│ embedding (\u001b[38;5;33mEmbedding\u001b[0m)           │ (\u001b[38;5;34m32\u001b[0m, \u001b[38;5;34m500\u001b[0m, \u001b[38;5;34m128\u001b[0m)         │     \u001b[38;5;34m1,280,000\u001b[0m │\n",
       "├─────────────────────────────────┼────────────────────────┼───────────────┤\n",
       "│ simple_rnn (\u001b[38;5;33mSimpleRNN\u001b[0m)          │ (\u001b[38;5;34m32\u001b[0m, \u001b[38;5;34m128\u001b[0m)              │        \u001b[38;5;34m32,896\u001b[0m │\n",
       "├─────────────────────────────────┼────────────────────────┼───────────────┤\n",
       "│ dense (\u001b[38;5;33mDense\u001b[0m)                   │ (\u001b[38;5;34m32\u001b[0m, \u001b[38;5;34m1\u001b[0m)                │           \u001b[38;5;34m129\u001b[0m │\n",
       "└─────────────────────────────────┴────────────────────────┴───────────────┘\n"
      ]
     },
     "metadata": {},
     "output_type": "display_data"
    },
    {
     "data": {
      "text/html": [
       "<pre style=\"white-space:pre;overflow-x:auto;line-height:normal;font-family:Menlo,'DejaVu Sans Mono',consolas,'Courier New',monospace\"><span style=\"font-weight: bold\"> Total params: </span><span style=\"color: #00af00; text-decoration-color: #00af00\">1,313,027</span> (5.01 MB)\n",
       "</pre>\n"
      ],
      "text/plain": [
       "\u001b[1m Total params: \u001b[0m\u001b[38;5;34m1,313,027\u001b[0m (5.01 MB)\n"
      ]
     },
     "metadata": {},
     "output_type": "display_data"
    },
    {
     "data": {
      "text/html": [
       "<pre style=\"white-space:pre;overflow-x:auto;line-height:normal;font-family:Menlo,'DejaVu Sans Mono',consolas,'Courier New',monospace\"><span style=\"font-weight: bold\"> Trainable params: </span><span style=\"color: #00af00; text-decoration-color: #00af00\">1,313,025</span> (5.01 MB)\n",
       "</pre>\n"
      ],
      "text/plain": [
       "\u001b[1m Trainable params: \u001b[0m\u001b[38;5;34m1,313,025\u001b[0m (5.01 MB)\n"
      ]
     },
     "metadata": {},
     "output_type": "display_data"
    },
    {
     "data": {
      "text/html": [
       "<pre style=\"white-space:pre;overflow-x:auto;line-height:normal;font-family:Menlo,'DejaVu Sans Mono',consolas,'Courier New',monospace\"><span style=\"font-weight: bold\"> Non-trainable params: </span><span style=\"color: #00af00; text-decoration-color: #00af00\">0</span> (0.00 B)\n",
       "</pre>\n"
      ],
      "text/plain": [
       "\u001b[1m Non-trainable params: \u001b[0m\u001b[38;5;34m0\u001b[0m (0.00 B)\n"
      ]
     },
     "metadata": {},
     "output_type": "display_data"
    },
    {
     "data": {
      "text/html": [
       "<pre style=\"white-space:pre;overflow-x:auto;line-height:normal;font-family:Menlo,'DejaVu Sans Mono',consolas,'Courier New',monospace\"><span style=\"font-weight: bold\"> Optimizer params: </span><span style=\"color: #00af00; text-decoration-color: #00af00\">2</span> (12.00 B)\n",
       "</pre>\n"
      ],
      "text/plain": [
       "\u001b[1m Optimizer params: \u001b[0m\u001b[38;5;34m2\u001b[0m (12.00 B)\n"
      ]
     },
     "metadata": {},
     "output_type": "display_data"
    }
   ],
   "source": [
    "## Load the pre-trained model with ReLU activation\n",
    "model = load_model('Simple_RNN_IMDB.h5')\n",
    "model.summary()"
   ]
  },
  {
   "cell_type": "code",
   "execution_count": 4,
   "metadata": {},
   "outputs": [
    {
     "data": {
      "text/plain": [
       "[array([[-0.23591854, -0.1534928 , -0.18646953, ..., -0.23198867,\n",
       "         -0.2319356 ,  0.17969115],\n",
       "        [ 0.0020129 , -0.05585191,  0.01862808, ..., -0.03231269,\n",
       "         -0.0120341 ,  0.04175114],\n",
       "        [-0.06781901, -0.04467234,  0.05471273, ..., -0.003031  ,\n",
       "         -0.05629135,  0.08260088],\n",
       "        ...,\n",
       "        [ 0.04512011,  0.06629308,  0.034617  , ..., -0.10950127,\n",
       "         -0.01142886, -0.03681097],\n",
       "        [ 0.06270072,  0.03224442,  0.00101721, ..., -0.03391886,\n",
       "         -0.00951526,  0.02018378],\n",
       "        [ 0.11899204, -0.01978393,  0.14182085, ...,  0.09419488,\n",
       "         -0.13997853,  0.05573461]], dtype=float32),\n",
       " array([[ 0.09030881,  0.08212337, -0.01624385, ..., -0.07454994,\n",
       "         -0.10754833, -0.09133569],\n",
       "        [ 0.12835172,  0.1783179 ,  0.13752195, ..., -0.03475151,\n",
       "         -0.09194448, -0.03544494],\n",
       "        [ 0.02778071, -0.04836277,  0.0251439 , ..., -0.12468497,\n",
       "         -0.03697681,  0.02698606],\n",
       "        ...,\n",
       "        [ 0.13400817, -0.10057978, -0.08676571, ..., -0.16531512,\n",
       "          0.01030765,  0.07292054],\n",
       "        [ 0.11276904, -0.07985299,  0.03524765, ..., -0.11005886,\n",
       "          0.14865114, -0.14795172],\n",
       "        [-0.0303851 , -0.05449967,  0.08485781, ..., -0.05585654,\n",
       "          0.1614322 ,  0.07019858]], dtype=float32),\n",
       " array([[-1.82908885e-02, -1.71354823e-02, -2.36164540e-01, ...,\n",
       "          1.33141547e-01, -4.96582910e-02,  2.60927137e-02],\n",
       "        [ 9.32430252e-02, -9.54102129e-02,  3.09520476e-02, ...,\n",
       "         -2.42096066e-04,  4.95726280e-02, -3.50351930e-02],\n",
       "        [ 1.23994336e-01, -2.58340001e-01,  3.18041742e-02, ...,\n",
       "          3.26601416e-02,  2.22329665e-02,  3.95837538e-02],\n",
       "        ...,\n",
       "        [-2.53455698e-01, -1.22537307e-01, -8.17580447e-02, ...,\n",
       "          9.60377455e-02,  8.45769793e-02, -1.84201580e-02],\n",
       "        [-5.42104896e-03, -1.36764377e-01,  6.34118393e-02, ...,\n",
       "         -9.88848135e-02,  5.70033938e-02,  3.25714909e-02],\n",
       "        [-5.26585151e-03, -1.21391065e-01, -6.93795681e-02, ...,\n",
       "          1.00045830e-01,  3.35127302e-02, -3.20167579e-02]], dtype=float32),\n",
       " array([-0.02796758, -0.03043121, -0.01719412, -0.03396418, -0.02364609,\n",
       "         0.03331338, -0.03906794,  0.03415615,  0.01837169,  0.01983474,\n",
       "         0.07092717,  0.01889142,  0.02947395,  0.02491294, -0.02034696,\n",
       "        -0.01278968,  0.01974435, -0.03219217, -0.01351603,  0.02682663,\n",
       "         0.00251446, -0.00860626,  0.00417874,  0.01635386,  0.02549464,\n",
       "        -0.02044185,  0.01944221, -0.02845548, -0.01937392,  0.00399629,\n",
       "        -0.02294539, -0.0115408 ,  0.02457635, -0.02721399,  0.01478787,\n",
       "        -0.01013239,  0.01356321, -0.00157306,  0.03537969, -0.02314892,\n",
       "        -0.00745079, -0.0122245 , -0.00932921, -0.03570478, -0.01120232,\n",
       "         0.0297008 , -0.02230779, -0.02888727, -0.03316645,  0.00311388,\n",
       "         0.00277525,  0.02346985, -0.01717255, -0.02643549,  0.01956881,\n",
       "        -0.02516872, -0.03548056,  0.01373856,  0.01550223, -0.01486478,\n",
       "        -0.02345767, -0.03425689,  0.00854906, -0.0435205 , -0.03207488,\n",
       "        -0.03366559, -0.00928647, -0.0224315 ,  0.01170506,  0.03482707,\n",
       "         0.01709592, -0.00416192,  0.03219204, -0.00691701, -0.02616993,\n",
       "        -0.01346935, -0.00182663, -0.01389994,  0.04400307, -0.01116164,\n",
       "         0.01435718,  0.01448444,  0.01457223, -0.03836856, -0.01678135,\n",
       "         0.02181611, -0.01683129, -0.01735915,  0.03766324, -0.01637172,\n",
       "        -0.00016139,  0.01446626,  0.04962715, -0.01346312,  0.03631736,\n",
       "        -0.02636205,  0.0357976 ,  0.02852766, -0.02168988, -0.03219996,\n",
       "         0.04698919, -0.03628987, -0.0073874 , -0.01752802,  0.00111656,\n",
       "         0.00564666,  0.00307778,  0.03048554, -0.02947851, -0.03853108,\n",
       "        -0.0381691 , -0.03007678, -0.03820305,  0.01793154, -0.0246167 ,\n",
       "         0.04142034, -0.03516144,  0.02108663,  0.01048656, -0.02497992,\n",
       "         0.04496859, -0.04078521, -0.01316927, -0.08149318,  0.02758302,\n",
       "         0.00022519,  0.02254741,  0.0142268 ], dtype=float32),\n",
       " array([[-0.13123336],\n",
       "        [-0.17680827],\n",
       "        [-0.17763717],\n",
       "        [-0.1618483 ],\n",
       "        [-0.12923868],\n",
       "        [ 0.09976785],\n",
       "        [ 0.20804039],\n",
       "        [ 0.03602217],\n",
       "        [ 0.03659876],\n",
       "        [ 0.10593249],\n",
       "        [-0.10559101],\n",
       "        [ 0.01849008],\n",
       "        [-0.04654906],\n",
       "        [ 0.22425751],\n",
       "        [-0.5616829 ],\n",
       "        [-0.32382825],\n",
       "        [-0.01740647],\n",
       "        [-0.02452194],\n",
       "        [ 0.07204004],\n",
       "        [ 0.1492441 ],\n",
       "        [ 0.22410193],\n",
       "        [-0.15512626],\n",
       "        [-0.08370063],\n",
       "        [-0.10675208],\n",
       "        [-0.13470107],\n",
       "        [ 0.09288985],\n",
       "        [-0.10418534],\n",
       "        [ 0.06404131],\n",
       "        [ 0.38704637],\n",
       "        [ 0.00390548],\n",
       "        [ 0.12206897],\n",
       "        [ 0.19762053],\n",
       "        [-0.0201365 ],\n",
       "        [-0.10685332],\n",
       "        [-0.21661508],\n",
       "        [-0.18784004],\n",
       "        [-0.4166592 ],\n",
       "        [ 0.24601366],\n",
       "        [ 0.12576957],\n",
       "        [-0.06941517],\n",
       "        [ 0.00264012],\n",
       "        [-0.09731493],\n",
       "        [ 0.03715339],\n",
       "        [ 0.0042042 ],\n",
       "        [ 0.10656991],\n",
       "        [-0.20341022],\n",
       "        [-0.09814496],\n",
       "        [-0.18608187],\n",
       "        [ 0.04505861],\n",
       "        [-0.2054947 ],\n",
       "        [-0.10403927],\n",
       "        [ 0.17557894],\n",
       "        [ 0.15161736],\n",
       "        [ 0.20061648],\n",
       "        [ 0.18239243],\n",
       "        [-0.13217242],\n",
       "        [-0.01724437],\n",
       "        [ 0.14087869],\n",
       "        [ 0.12461561],\n",
       "        [ 0.11281377],\n",
       "        [-0.10204266],\n",
       "        [-0.20078678],\n",
       "        [ 0.05037747],\n",
       "        [ 0.17227994],\n",
       "        [-0.17072758],\n",
       "        [ 0.13513209],\n",
       "        [-0.10420329],\n",
       "        [-0.06273783],\n",
       "        [-0.07754342],\n",
       "        [ 0.17640664],\n",
       "        [-0.5887181 ],\n",
       "        [ 0.01893185],\n",
       "        [ 0.15687767],\n",
       "        [-0.07130514],\n",
       "        [ 0.00563414],\n",
       "        [-0.1773556 ],\n",
       "        [ 0.02446585],\n",
       "        [ 0.1805549 ],\n",
       "        [-0.03572124],\n",
       "        [ 0.01561254],\n",
       "        [-0.05405071],\n",
       "        [ 0.0264573 ],\n",
       "        [ 0.17067191],\n",
       "        [-0.09844139],\n",
       "        [-0.1757754 ],\n",
       "        [-0.02964078],\n",
       "        [ 0.0194341 ],\n",
       "        [-0.19539806],\n",
       "        [-0.08256489],\n",
       "        [ 0.07984496],\n",
       "        [-0.08279609],\n",
       "        [-0.23412849],\n",
       "        [-0.03839711],\n",
       "        [-0.08030624],\n",
       "        [ 0.18101206],\n",
       "        [-0.06000439],\n",
       "        [-0.06980206],\n",
       "        [-0.20534842],\n",
       "        [-0.17972782],\n",
       "        [ 0.10761327],\n",
       "        [-0.24324608],\n",
       "        [-0.16716155],\n",
       "        [ 0.04948682],\n",
       "        [ 0.1343149 ],\n",
       "        [-0.01461712],\n",
       "        [-0.05377571],\n",
       "        [-0.12475531],\n",
       "        [ 0.19862936],\n",
       "        [-0.56345606],\n",
       "        [ 0.3727889 ],\n",
       "        [-0.19212079],\n",
       "        [-0.14547746],\n",
       "        [-0.08261948],\n",
       "        [ 0.10609635],\n",
       "        [-0.06706174],\n",
       "        [-0.04823735],\n",
       "        [-0.19527397],\n",
       "        [ 0.1597386 ],\n",
       "        [-0.03512862],\n",
       "        [-0.16519517],\n",
       "        [-0.27080134],\n",
       "        [ 0.46204236],\n",
       "        [-0.11766633],\n",
       "        [ 0.0478843 ],\n",
       "        [ 0.14687657],\n",
       "        [ 0.21899432],\n",
       "        [-0.12563978],\n",
       "        [-0.11027419]], dtype=float32),\n",
       " array([-1.9293232], dtype=float32)]"
      ]
     },
     "execution_count": 4,
     "metadata": {},
     "output_type": "execute_result"
    }
   ],
   "source": [
    "model.get_weights()"
   ]
  },
  {
   "cell_type": "code",
   "execution_count": 5,
   "metadata": {},
   "outputs": [],
   "source": [
    "## Step 2: Helper functions\n",
    "#Function to decode reviews\n",
    "def decode_review(encoded_review):\n",
    "    return ' '.join([reverse_word_index.get(i -3, '?') for i in encoded_review])\n",
    "\n",
    "# Function to preprocess user input\n",
    "def preprocess_text(text):\n",
    "    words = text.lower().split()\n",
    "    encoded_review = [word_index.get(word, 2) + 3 for word in words]\n",
    "    padded_review = sequence.pad_sequences([encoded_review], maxlen=500)\n",
    "    return padded_review"
   ]
  },
  {
   "cell_type": "code",
   "execution_count": 6,
   "metadata": {},
   "outputs": [],
   "source": [
    "## Prediction function\n",
    "\n",
    "def predict_sentiment(review):\n",
    "    preprocessed_input = preprocess_text(review)\n",
    "\n",
    "    prediction  = model.predict(preprocessed_input)\n",
    "\n",
    "    sentiment = \"Positive\" if prediction[0][0] > 0.5 else 'Negative'\n",
    "\n",
    "    return sentiment, prediction[0][0]"
   ]
  },
  {
   "cell_type": "code",
   "execution_count": 9,
   "metadata": {},
   "outputs": [
    {
     "name": "stdout",
     "output_type": "stream",
     "text": [
      "\u001b[1m1/1\u001b[0m \u001b[32m━━━━━━━━━━━━━━━━━━━━\u001b[0m\u001b[37m\u001b[0m \u001b[1m0s\u001b[0m 35ms/step\n",
      "Review: This movie was fantastic! The acting was great and the plot was thrilling.\n",
      "Sentiment: Positive\n",
      "Prdiction Score: 0.9983195066452026\n"
     ]
    }
   ],
   "source": [
    "## Step 4: User Input and Prediction\n",
    "# Example review for prediction\n",
    "\n",
    "example_review = \"This movie was fantastic! The acting was great and the plot was thrilling.\"\n",
    "\n",
    "sentiment, score = predict_sentiment(example_review)\n",
    "\n",
    "print(f'Review: {example_review}')\n",
    "print(f'Sentiment: {sentiment}')\n",
    "print(f'Prdiction Score: {score}')"
   ]
  },
  {
   "cell_type": "code",
   "execution_count": null,
   "metadata": {},
   "outputs": [],
   "source": []
  },
  {
   "cell_type": "code",
   "execution_count": null,
   "metadata": {},
   "outputs": [],
   "source": []
  },
  {
   "cell_type": "code",
   "execution_count": null,
   "metadata": {},
   "outputs": [],
   "source": []
  },
  {
   "cell_type": "code",
   "execution_count": null,
   "metadata": {},
   "outputs": [],
   "source": []
  },
  {
   "cell_type": "code",
   "execution_count": null,
   "metadata": {},
   "outputs": [],
   "source": []
  }
 ],
 "metadata": {
  "kernelspec": {
   "display_name": "Python (movie_review)",
   "language": "python",
   "name": "movie_review"
  },
  "language_info": {
   "codemirror_mode": {
    "name": "ipython",
    "version": 3
   },
   "file_extension": ".py",
   "mimetype": "text/x-python",
   "name": "python",
   "nbconvert_exporter": "python",
   "pygments_lexer": "ipython3",
   "version": "3.12.7"
  }
 },
 "nbformat": 4,
 "nbformat_minor": 2
}
